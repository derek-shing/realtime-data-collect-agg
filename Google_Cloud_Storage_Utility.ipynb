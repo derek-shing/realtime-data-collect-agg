{
  "nbformat": 4,
  "nbformat_minor": 0,
  "metadata": {
    "colab": {
      "name": "Google_Cloud_Storage_Utility.ipynb",
      "provenance": [],
      "include_colab_link": true
    },
    "kernelspec": {
      "name": "python3",
      "display_name": "Python 3"
    }
  },
  "cells": [
    {
      "cell_type": "markdown",
      "metadata": {
        "id": "view-in-github",
        "colab_type": "text"
      },
      "source": [
        "<a href=\"https://colab.research.google.com/github/derek-shing/realtime-data-collect-agg/blob/master/Google_Cloud_Storage_Utility.ipynb\" target=\"_parent\"><img src=\"https://colab.research.google.com/assets/colab-badge.svg\" alt=\"Open In Colab\"/></a>"
      ]
    },
    {
      "cell_type": "code",
      "metadata": {
        "id": "ZQdgp-GsgfBv",
        "colab_type": "code",
        "colab": {}
      },
      "source": [
        "from google.cloud import storage"
      ],
      "execution_count": 0,
      "outputs": []
    },
    {
      "cell_type": "code",
      "metadata": {
        "id": "V3Km2XrntNVs",
        "colab_type": "code",
        "colab": {}
      },
      "source": [
        "from google.colab import drive"
      ],
      "execution_count": 0,
      "outputs": []
    },
    {
      "cell_type": "code",
      "metadata": {
        "id": "z5ochv0TtvlY",
        "colab_type": "code",
        "colab": {
          "base_uri": "https://localhost:8080/",
          "height": 122
        },
        "outputId": "f80f6e66-a9c2-4c7c-9ffe-0de6d19e0a77"
      },
      "source": [
        "drive.mount('/content/drive')"
      ],
      "execution_count": 4,
      "outputs": [
        {
          "output_type": "stream",
          "text": [
            "Go to this URL in a browser: https://accounts.google.com/o/oauth2/auth?client_id=947318989803-6bn6qk8qdgf4n4g3pfee6491hc0brc4i.apps.googleusercontent.com&redirect_uri=urn%3aietf%3awg%3aoauth%3a2.0%3aoob&response_type=code&scope=email%20https%3a%2f%2fwww.googleapis.com%2fauth%2fdocs.test%20https%3a%2f%2fwww.googleapis.com%2fauth%2fdrive%20https%3a%2f%2fwww.googleapis.com%2fauth%2fdrive.photos.readonly%20https%3a%2f%2fwww.googleapis.com%2fauth%2fpeopleapi.readonly\n",
            "\n",
            "Enter your authorization code:\n",
            "··········\n",
            "Mounted at /content/drive\n"
          ],
          "name": "stdout"
        }
      ]
    },
    {
      "cell_type": "code",
      "metadata": {
        "id": "e9Aj2t8IugIt",
        "colab_type": "code",
        "colab": {}
      },
      "source": [
        "import os\n",
        "os.environ['GOOGLE_APPLICATION_CREDENTIALS'] = \"/content/drive/My Drive/GCP_account.json\""
      ],
      "execution_count": 0,
      "outputs": []
    },
    {
      "cell_type": "code",
      "metadata": {
        "id": "N6dNem93q6kx",
        "colab_type": "code",
        "colab": {}
      },
      "source": [
        "# Instantiates a client\n",
        "storage_client = storage.Client()\n",
        "\n",
        "# The name for the new bucket\n",
        "bucket_name = 'microsoft_research_asia_geolife_project'\n",
        "\n",
        "# Creates the new bucket\n",
        "#bucket = storage_client.create_bucket(bucket_name)\n",
        "\n",
        "#print('Bucket {} created.'.format(bucket.name))"
      ],
      "execution_count": 0,
      "outputs": []
    },
    {
      "cell_type": "code",
      "metadata": {
        "id": "v5rFi1FD2ONH",
        "colab_type": "code",
        "colab": {}
      },
      "source": [
        "bucket = storage_client.get_bucket(bucket_name)"
      ],
      "execution_count": 0,
      "outputs": []
    },
    {
      "cell_type": "code",
      "metadata": {
        "id": "ptazzeya2d62",
        "colab_type": "code",
        "colab": {}
      },
      "source": [
        "blob = bucket.blob(\"Geolife Trajectories 1.3.zip\")"
      ],
      "execution_count": 0,
      "outputs": []
    },
    {
      "cell_type": "code",
      "metadata": {
        "id": "T4TEcj4d6nAF",
        "colab_type": "code",
        "colab": {}
      },
      "source": [
        "blob.download_to_filename(\"destination_file_name.zip\")"
      ],
      "execution_count": 0,
      "outputs": []
    },
    {
      "cell_type": "code",
      "metadata": {
        "id": "eZw80NEZ7Ety",
        "colab_type": "code",
        "colab": {}
      },
      "source": [
        "!unzip /content/destination_file_name.zip"
      ],
      "execution_count": 0,
      "outputs": []
    },
    {
      "cell_type": "code",
      "metadata": {
        "id": "0znt7uh25vRC",
        "colab_type": "code",
        "colab": {
          "base_uri": "https://localhost:8080/",
          "height": 54
        },
        "outputId": "2f9439cf-c4b4-45c1-f259-34174e946a37"
      },
      "source": [
        "!gsutil cp gs://microsoft_research_asia_geolife_project/Geolife Trajectories 1.3.zip /geolife/"
      ],
      "execution_count": 34,
      "outputs": [
        {
          "output_type": "stream",
          "text": [
            "ServiceException: 401 Anonymous caller does not have storage.objects.get access to microsoft_research_asia_geolife_project/Geolife.\n"
          ],
          "name": "stdout"
        }
      ]
    },
    {
      "cell_type": "code",
      "metadata": {
        "id": "ZsVKfVIx-LMC",
        "colab_type": "code",
        "colab": {
          "base_uri": "https://localhost:8080/",
          "height": 71
        },
        "outputId": "1b466fe8-7c18-45bd-b576-d790ea819f01"
      },
      "source": [
        "!gsutil cp -r /content/GeolifeTrajectories gs://microsoft_research_asia_geolife_project"
      ],
      "execution_count": 50,
      "outputs": [
        {
          "output_type": "stream",
          "text": [
            "Copying file:///content/GeolifeTrajectories/User Guide-1.3.pdf [Content-Type=application/pdf]...\n",
            "/ [0 files][    0.0 B/486.9 KiB]                                                \rServiceException: 401 Anonymous caller does not have storage.objects.create access to microsoft_research_asia_geolife_project/GeolifeTrajectories/User Guide-1.3.pdf.\n"
          ],
          "name": "stdout"
        }
      ]
    },
    {
      "cell_type": "code",
      "metadata": {
        "id": "zqc8SzKA-z0L",
        "colab_type": "code",
        "colab": {}
      },
      "source": [
        "!export GOOGLE_APPLICATION_CREDENTIALS=\"/content/drive/My Drive/GCP_account.json\""
      ],
      "execution_count": 0,
      "outputs": []
    }
  ]
}